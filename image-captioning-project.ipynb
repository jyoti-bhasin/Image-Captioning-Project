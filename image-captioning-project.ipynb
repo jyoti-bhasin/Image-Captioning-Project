{
 "cells": [
  {
   "cell_type": "code",
   "execution_count": 1,
   "id": "9d6c4533",
   "metadata": {
    "_cell_guid": "74728f36-2dbc-41fa-9d38-febbec3d4954",
    "_uuid": "c7ba5822-5cae-4f6a-9bca-c9cbd1aa9ba1",
    "collapsed": false,
    "execution": {
     "iopub.execute_input": "2023-01-06T08:30:42.528677Z",
     "iopub.status.busy": "2023-01-06T08:30:42.527707Z",
     "iopub.status.idle": "2023-01-06T08:30:53.132939Z",
     "shell.execute_reply": "2023-01-06T08:30:53.131903Z"
    },
    "jupyter": {
     "outputs_hidden": false
    },
    "papermill": {
     "duration": 10.618819,
     "end_time": "2023-01-06T08:30:53.135664",
     "exception": false,
     "start_time": "2023-01-06T08:30:42.516845",
     "status": "completed"
    },
    "tags": []
   },
   "outputs": [],
   "source": [
    "\n",
    "\n",
    "import os\n",
    "import pickle\n",
    "import numpy as np\n",
    "from tqdm.notebook import tqdm\n",
    "\n",
    "from tensorflow.keras.applications.vgg16 import VGG16, preprocess_input\n",
    "from tensorflow.keras.preprocessing.image import load_img, img_to_array\n",
    "from tensorflow.keras.preprocessing.text import Tokenizer\n",
    "from tensorflow.keras.preprocessing.sequence import pad_sequences\n",
    "from tensorflow.keras.models import Model\n",
    "from tensorflow.keras.utils import to_categorical, plot_model\n",
    "from tensorflow.keras.layers import Input, Dense, LSTM, Embedding, Dropout, add\n",
    "\n"
   ]
  },
  {
   "cell_type": "code",
   "execution_count": 2,
   "id": "bc4d8868",
   "metadata": {
    "execution": {
     "iopub.execute_input": "2023-01-06T08:30:53.152260Z",
     "iopub.status.busy": "2023-01-06T08:30:53.150981Z",
     "iopub.status.idle": "2023-01-06T08:30:53.156466Z",
     "shell.execute_reply": "2023-01-06T08:30:53.155520Z"
    },
    "papermill": {
     "duration": 0.015728,
     "end_time": "2023-01-06T08:30:53.158593",
     "exception": false,
     "start_time": "2023-01-06T08:30:53.142865",
     "status": "completed"
    },
    "tags": []
   },
   "outputs": [],
   "source": [
    "BASE_DIR = '/kaggle/input/archive-4'\n",
    "WORKING_DIR = '/kaggle/working'"
   ]
  },
  {
   "cell_type": "code",
   "execution_count": 3,
   "id": "4b90aefe",
   "metadata": {
    "execution": {
     "iopub.execute_input": "2023-01-06T08:30:53.174140Z",
     "iopub.status.busy": "2023-01-06T08:30:53.173832Z",
     "iopub.status.idle": "2023-01-06T08:31:03.058115Z",
     "shell.execute_reply": "2023-01-06T08:31:03.057070Z"
    },
    "papermill": {
     "duration": 9.895653,
     "end_time": "2023-01-06T08:31:03.061303",
     "exception": false,
     "start_time": "2023-01-06T08:30:53.165650",
     "status": "completed"
    },
    "tags": []
   },
   "outputs": [
    {
     "name": "stderr",
     "output_type": "stream",
     "text": [
      "2023-01-06 08:30:53.347413: I tensorflow/stream_executor/cuda/cuda_gpu_executor.cc:937] successful NUMA node read from SysFS had negative value (-1), but there must be at least one NUMA node, so returning NUMA node zero\n",
      "2023-01-06 08:30:53.348409: I tensorflow/stream_executor/cuda/cuda_gpu_executor.cc:937] successful NUMA node read from SysFS had negative value (-1), but there must be at least one NUMA node, so returning NUMA node zero\n",
      "2023-01-06 08:30:53.593946: I tensorflow/stream_executor/cuda/cuda_gpu_executor.cc:937] successful NUMA node read from SysFS had negative value (-1), but there must be at least one NUMA node, so returning NUMA node zero\n",
      "2023-01-06 08:30:53.594886: I tensorflow/stream_executor/cuda/cuda_gpu_executor.cc:937] successful NUMA node read from SysFS had negative value (-1), but there must be at least one NUMA node, so returning NUMA node zero\n",
      "2023-01-06 08:30:53.595700: I tensorflow/stream_executor/cuda/cuda_gpu_executor.cc:937] successful NUMA node read from SysFS had negative value (-1), but there must be at least one NUMA node, so returning NUMA node zero\n",
      "2023-01-06 08:30:53.596493: I tensorflow/stream_executor/cuda/cuda_gpu_executor.cc:937] successful NUMA node read from SysFS had negative value (-1), but there must be at least one NUMA node, so returning NUMA node zero\n",
      "2023-01-06 08:30:53.598560: I tensorflow/core/platform/cpu_feature_guard.cc:142] This TensorFlow binary is optimized with oneAPI Deep Neural Network Library (oneDNN) to use the following CPU instructions in performance-critical operations:  AVX2 AVX512F FMA\n",
      "To enable them in other operations, rebuild TensorFlow with the appropriate compiler flags.\n",
      "2023-01-06 08:30:53.860135: I tensorflow/stream_executor/cuda/cuda_gpu_executor.cc:937] successful NUMA node read from SysFS had negative value (-1), but there must be at least one NUMA node, so returning NUMA node zero\n",
      "2023-01-06 08:30:53.861040: I tensorflow/stream_executor/cuda/cuda_gpu_executor.cc:937] successful NUMA node read from SysFS had negative value (-1), but there must be at least one NUMA node, so returning NUMA node zero\n",
      "2023-01-06 08:30:53.861892: I tensorflow/stream_executor/cuda/cuda_gpu_executor.cc:937] successful NUMA node read from SysFS had negative value (-1), but there must be at least one NUMA node, so returning NUMA node zero\n",
      "2023-01-06 08:30:53.862688: I tensorflow/stream_executor/cuda/cuda_gpu_executor.cc:937] successful NUMA node read from SysFS had negative value (-1), but there must be at least one NUMA node, so returning NUMA node zero\n",
      "2023-01-06 08:30:53.863425: I tensorflow/stream_executor/cuda/cuda_gpu_executor.cc:937] successful NUMA node read from SysFS had negative value (-1), but there must be at least one NUMA node, so returning NUMA node zero\n",
      "2023-01-06 08:30:53.864175: I tensorflow/stream_executor/cuda/cuda_gpu_executor.cc:937] successful NUMA node read from SysFS had negative value (-1), but there must be at least one NUMA node, so returning NUMA node zero\n",
      "2023-01-06 08:30:58.245953: I tensorflow/stream_executor/cuda/cuda_gpu_executor.cc:937] successful NUMA node read from SysFS had negative value (-1), but there must be at least one NUMA node, so returning NUMA node zero\n",
      "2023-01-06 08:30:58.246899: I tensorflow/stream_executor/cuda/cuda_gpu_executor.cc:937] successful NUMA node read from SysFS had negative value (-1), but there must be at least one NUMA node, so returning NUMA node zero\n",
      "2023-01-06 08:30:58.247645: I tensorflow/stream_executor/cuda/cuda_gpu_executor.cc:937] successful NUMA node read from SysFS had negative value (-1), but there must be at least one NUMA node, so returning NUMA node zero\n",
      "2023-01-06 08:30:58.248393: I tensorflow/stream_executor/cuda/cuda_gpu_executor.cc:937] successful NUMA node read from SysFS had negative value (-1), but there must be at least one NUMA node, so returning NUMA node zero\n",
      "2023-01-06 08:30:58.249137: I tensorflow/stream_executor/cuda/cuda_gpu_executor.cc:937] successful NUMA node read from SysFS had negative value (-1), but there must be at least one NUMA node, so returning NUMA node zero\n",
      "2023-01-06 08:30:58.249939: I tensorflow/core/common_runtime/gpu/gpu_device.cc:1510] Created device /job:localhost/replica:0/task:0/device:GPU:0 with 13789 MB memory:  -> device: 0, name: Tesla T4, pci bus id: 0000:00:04.0, compute capability: 7.5\n",
      "2023-01-06 08:30:58.254748: I tensorflow/stream_executor/cuda/cuda_gpu_executor.cc:937] successful NUMA node read from SysFS had negative value (-1), but there must be at least one NUMA node, so returning NUMA node zero\n",
      "2023-01-06 08:30:58.255469: I tensorflow/core/common_runtime/gpu/gpu_device.cc:1510] Created device /job:localhost/replica:0/task:0/device:GPU:1 with 13789 MB memory:  -> device: 1, name: Tesla T4, pci bus id: 0000:00:05.0, compute capability: 7.5\n"
     ]
    },
    {
     "name": "stdout",
     "output_type": "stream",
     "text": [
      "Downloading data from https://storage.googleapis.com/tensorflow/keras-applications/vgg16/vgg16_weights_tf_dim_ordering_tf_kernels.h5\n",
      "553467904/553467096 [==============================] - 3s 0us/step\n",
      "553476096/553467096 [==============================] - 3s 0us/step\n",
      "Model: \"model\"\n",
      "_________________________________________________________________\n",
      "Layer (type)                 Output Shape              Param #   \n",
      "=================================================================\n",
      "input_1 (InputLayer)         [(None, 224, 224, 3)]     0         \n",
      "_________________________________________________________________\n",
      "block1_conv1 (Conv2D)        (None, 224, 224, 64)      1792      \n",
      "_________________________________________________________________\n",
      "block1_conv2 (Conv2D)        (None, 224, 224, 64)      36928     \n",
      "_________________________________________________________________\n",
      "block1_pool (MaxPooling2D)   (None, 112, 112, 64)      0         \n",
      "_________________________________________________________________\n",
      "block2_conv1 (Conv2D)        (None, 112, 112, 128)     73856     \n",
      "_________________________________________________________________\n",
      "block2_conv2 (Conv2D)        (None, 112, 112, 128)     147584    \n",
      "_________________________________________________________________\n",
      "block2_pool (MaxPooling2D)   (None, 56, 56, 128)       0         \n",
      "_________________________________________________________________\n",
      "block3_conv1 (Conv2D)        (None, 56, 56, 256)       295168    \n",
      "_________________________________________________________________\n",
      "block3_conv2 (Conv2D)        (None, 56, 56, 256)       590080    \n",
      "_________________________________________________________________\n",
      "block3_conv3 (Conv2D)        (None, 56, 56, 256)       590080    \n",
      "_________________________________________________________________\n",
      "block3_pool (MaxPooling2D)   (None, 28, 28, 256)       0         \n",
      "_________________________________________________________________\n",
      "block4_conv1 (Conv2D)        (None, 28, 28, 512)       1180160   \n",
      "_________________________________________________________________\n",
      "block4_conv2 (Conv2D)        (None, 28, 28, 512)       2359808   \n",
      "_________________________________________________________________\n",
      "block4_conv3 (Conv2D)        (None, 28, 28, 512)       2359808   \n",
      "_________________________________________________________________\n",
      "block4_pool (MaxPooling2D)   (None, 14, 14, 512)       0         \n",
      "_________________________________________________________________\n",
      "block5_conv1 (Conv2D)        (None, 14, 14, 512)       2359808   \n",
      "_________________________________________________________________\n",
      "block5_conv2 (Conv2D)        (None, 14, 14, 512)       2359808   \n",
      "_________________________________________________________________\n",
      "block5_conv3 (Conv2D)        (None, 14, 14, 512)       2359808   \n",
      "_________________________________________________________________\n",
      "block5_pool (MaxPooling2D)   (None, 7, 7, 512)         0         \n",
      "_________________________________________________________________\n",
      "flatten (Flatten)            (None, 25088)             0         \n",
      "_________________________________________________________________\n",
      "fc1 (Dense)                  (None, 4096)              102764544 \n",
      "_________________________________________________________________\n",
      "fc2 (Dense)                  (None, 4096)              16781312  \n",
      "=================================================================\n",
      "Total params: 134,260,544\n",
      "Trainable params: 134,260,544\n",
      "Non-trainable params: 0\n",
      "_________________________________________________________________\n",
      "None\n"
     ]
    }
   ],
   "source": [
    "# load vgg16 model\n",
    "model = VGG16()\n",
    "# restructure the model\n",
    "model = Model(inputs=model.inputs, outputs=model.layers[-2].output)\n",
    "# summarize\n",
    "print(model.summary())"
   ]
  },
  {
   "cell_type": "code",
   "execution_count": 4,
   "id": "03383830",
   "metadata": {
    "execution": {
     "iopub.execute_input": "2023-01-06T08:31:03.083797Z",
     "iopub.status.busy": "2023-01-06T08:31:03.083140Z",
     "iopub.status.idle": "2023-01-06T08:40:48.806285Z",
     "shell.execute_reply": "2023-01-06T08:40:48.805207Z"
    },
    "papermill": {
     "duration": 585.736456,
     "end_time": "2023-01-06T08:40:48.808311",
     "exception": false,
     "start_time": "2023-01-06T08:31:03.071855",
     "status": "completed"
    },
    "tags": []
   },
   "outputs": [
    {
     "data": {
      "application/vnd.jupyter.widget-view+json": {
       "model_id": "fc352e5e1d764465b393508acad0ccba",
       "version_major": 2,
       "version_minor": 0
      },
      "text/plain": [
       "  0%|          | 0/8091 [00:00<?, ?it/s]"
      ]
     },
     "metadata": {},
     "output_type": "display_data"
    },
    {
     "name": "stderr",
     "output_type": "stream",
     "text": [
      "2023-01-06 08:31:03.521436: I tensorflow/compiler/mlir/mlir_graph_optimization_pass.cc:185] None of the MLIR Optimization Passes are enabled (registered 2)\n",
      "2023-01-06 08:31:05.445587: I tensorflow/stream_executor/cuda/cuda_dnn.cc:369] Loaded cuDNN version 8005\n"
     ]
    }
   ],
   "source": [
    "# extract features from image\n",
    "features = {}\n",
    "directory = os.path.join(BASE_DIR, 'Images')\n",
    "\n",
    "for img_name in tqdm(os.listdir(directory)):\n",
    "    # load the image from file\n",
    "    img_path = directory + '/' + img_name\n",
    "    image = load_img(img_path, target_size=(224, 224))\n",
    "    # convert image pixels to numpy array\n",
    "    image = img_to_array(image)\n",
    "    # reshape data for model\n",
    "    image = image.reshape((1, image.shape[0], image.shape[1], image.shape[2]))\n",
    "    # preprocess image for vgg\n",
    "    image = preprocess_input(image)\n",
    "    # extract features\n",
    "    feature = model.predict(image, verbose=0)\n",
    "    # get image ID\n",
    "    image_id = img_name.split('.')[0]\n",
    "    # store feature\n",
    "    features[image_id] = feature"
   ]
  },
  {
   "cell_type": "code",
   "execution_count": 5,
   "id": "3f942993",
   "metadata": {
    "execution": {
     "iopub.execute_input": "2023-01-06T08:40:48.830816Z",
     "iopub.status.busy": "2023-01-06T08:40:48.829886Z",
     "iopub.status.idle": "2023-01-06T08:40:49.179735Z",
     "shell.execute_reply": "2023-01-06T08:40:49.178672Z"
    },
    "papermill": {
     "duration": 0.363472,
     "end_time": "2023-01-06T08:40:49.182228",
     "exception": false,
     "start_time": "2023-01-06T08:40:48.818756",
     "status": "completed"
    },
    "tags": []
   },
   "outputs": [],
   "source": [
    "# store features in pickle\n",
    "pickle.dump(features, open(os.path.join(WORKING_DIR, 'features.pkl'), 'wb'))"
   ]
  },
  {
   "cell_type": "code",
   "execution_count": 6,
   "id": "ebddf4a1",
   "metadata": {
    "execution": {
     "iopub.execute_input": "2023-01-06T08:40:49.204516Z",
     "iopub.status.busy": "2023-01-06T08:40:49.204221Z",
     "iopub.status.idle": "2023-01-06T08:40:49.348098Z",
     "shell.execute_reply": "2023-01-06T08:40:49.347059Z"
    },
    "papermill": {
     "duration": 0.158544,
     "end_time": "2023-01-06T08:40:49.351071",
     "exception": false,
     "start_time": "2023-01-06T08:40:49.192527",
     "status": "completed"
    },
    "tags": []
   },
   "outputs": [],
   "source": [
    "# load features from pickle\n",
    "with open(os.path.join(WORKING_DIR, 'features.pkl'), 'rb') as f:\n",
    "    features = pickle.load(f)"
   ]
  },
  {
   "cell_type": "code",
   "execution_count": 7,
   "id": "5adecf7f",
   "metadata": {
    "execution": {
     "iopub.execute_input": "2023-01-06T08:40:49.374313Z",
     "iopub.status.busy": "2023-01-06T08:40:49.373983Z",
     "iopub.status.idle": "2023-01-06T08:40:49.469163Z",
     "shell.execute_reply": "2023-01-06T08:40:49.468132Z"
    },
    "papermill": {
     "duration": 0.109197,
     "end_time": "2023-01-06T08:40:49.471423",
     "exception": false,
     "start_time": "2023-01-06T08:40:49.362226",
     "status": "completed"
    },
    "tags": []
   },
   "outputs": [],
   "source": [
    "with open(os.path.join(BASE_DIR, 'captions.txt'), 'r') as f:\n",
    "    next(f)\n",
    "    captions_doc = f.read()"
   ]
  },
  {
   "cell_type": "code",
   "execution_count": 8,
   "id": "331cece4",
   "metadata": {
    "execution": {
     "iopub.execute_input": "2023-01-06T08:40:49.494319Z",
     "iopub.status.busy": "2023-01-06T08:40:49.494005Z",
     "iopub.status.idle": "2023-01-06T08:40:49.620766Z",
     "shell.execute_reply": "2023-01-06T08:40:49.619671Z"
    },
    "papermill": {
     "duration": 0.143745,
     "end_time": "2023-01-06T08:40:49.626037",
     "exception": false,
     "start_time": "2023-01-06T08:40:49.482292",
     "status": "completed"
    },
    "tags": []
   },
   "outputs": [
    {
     "data": {
      "application/vnd.jupyter.widget-view+json": {
       "model_id": "981632af396047808c2e67e6f8f60aa9",
       "version_major": 2,
       "version_minor": 0
      },
      "text/plain": [
       "  0%|          | 0/40456 [00:00<?, ?it/s]"
      ]
     },
     "metadata": {},
     "output_type": "display_data"
    }
   ],
   "source": [
    "# create mapping of image to captions\n",
    "mapping = {}\n",
    "# process lines\n",
    "for line in tqdm(captions_doc.split('\\n')):\n",
    "    # split the line by comma(,)\n",
    "    tokens = line.split(',')\n",
    "    if len(line) < 2:\n",
    "        continue\n",
    "    image_id, caption = tokens[0], tokens[1:]\n",
    "    # remove extension from image ID\n",
    "    image_id = image_id.split('.')[0]\n",
    "    # convert caption list to string\n",
    "    caption = \" \".join(caption)\n",
    "    # create list if needed\n",
    "    if image_id not in mapping:\n",
    "        mapping[image_id] = []\n",
    "    # store the caption\n",
    "    mapping[image_id].append(caption)"
   ]
  },
  {
   "cell_type": "code",
   "execution_count": 9,
   "id": "b6b3418a",
   "metadata": {
    "execution": {
     "iopub.execute_input": "2023-01-06T08:40:49.648268Z",
     "iopub.status.busy": "2023-01-06T08:40:49.647961Z",
     "iopub.status.idle": "2023-01-06T08:40:49.655600Z",
     "shell.execute_reply": "2023-01-06T08:40:49.654582Z"
    },
    "papermill": {
     "duration": 0.022438,
     "end_time": "2023-01-06T08:40:49.658944",
     "exception": false,
     "start_time": "2023-01-06T08:40:49.636506",
     "status": "completed"
    },
    "tags": []
   },
   "outputs": [
    {
     "data": {
      "text/plain": [
       "8091"
      ]
     },
     "execution_count": 9,
     "metadata": {},
     "output_type": "execute_result"
    }
   ],
   "source": [
    "\n",
    "len(mapping)"
   ]
  },
  {
   "cell_type": "code",
   "execution_count": 10,
   "id": "fc860e8d",
   "metadata": {
    "execution": {
     "iopub.execute_input": "2023-01-06T08:40:49.681707Z",
     "iopub.status.busy": "2023-01-06T08:40:49.681409Z",
     "iopub.status.idle": "2023-01-06T08:40:49.688047Z",
     "shell.execute_reply": "2023-01-06T08:40:49.687116Z"
    },
    "papermill": {
     "duration": 0.020844,
     "end_time": "2023-01-06T08:40:49.690055",
     "exception": false,
     "start_time": "2023-01-06T08:40:49.669211",
     "status": "completed"
    },
    "tags": []
   },
   "outputs": [],
   "source": [
    "def clean(mapping):\n",
    "    for key, captions in mapping.items():\n",
    "        for i in range(len(captions)):\n",
    "            # take one caption at a time\n",
    "            caption = captions[i]\n",
    "            # preprocessing steps\n",
    "            # convert to lowercase\n",
    "            caption = caption.lower()\n",
    "            # delete digits, special chars, etc., \n",
    "            caption = caption.replace('[^A-Za-z]', '')\n",
    "            # delete additional spaces\n",
    "            caption = caption.replace('\\s+', ' ')\n",
    "            # add start and end tags to the caption\n",
    "            caption = 'startseq ' + \" \".join([word for word in caption.split() if len(word)>1]) + ' endseq'\n",
    "            captions[i] = caption"
   ]
  },
  {
   "cell_type": "code",
   "execution_count": 11,
   "id": "330b7754",
   "metadata": {
    "execution": {
     "iopub.execute_input": "2023-01-06T08:40:49.711498Z",
     "iopub.status.busy": "2023-01-06T08:40:49.711218Z",
     "iopub.status.idle": "2023-01-06T08:40:49.717218Z",
     "shell.execute_reply": "2023-01-06T08:40:49.716231Z"
    },
    "papermill": {
     "duration": 0.020104,
     "end_time": "2023-01-06T08:40:49.720390",
     "exception": false,
     "start_time": "2023-01-06T08:40:49.700286",
     "status": "completed"
    },
    "tags": []
   },
   "outputs": [
    {
     "data": {
      "text/plain": [
       "['A child in a pink dress is climbing up a set of stairs in an entry way .',\n",
       " 'A girl going into a wooden building .',\n",
       " 'A little girl climbing into a wooden playhouse .',\n",
       " 'A little girl climbing the stairs to her playhouse .',\n",
       " 'A little girl in a pink dress going into a wooden cabin .']"
      ]
     },
     "execution_count": 11,
     "metadata": {},
     "output_type": "execute_result"
    }
   ],
   "source": [
    "# before preprocess of text\n",
    "mapping['1000268201_693b08cb0e']"
   ]
  },
  {
   "cell_type": "code",
   "execution_count": 12,
   "id": "a673af7d",
   "metadata": {
    "execution": {
     "iopub.execute_input": "2023-01-06T08:40:49.742731Z",
     "iopub.status.busy": "2023-01-06T08:40:49.742429Z",
     "iopub.status.idle": "2023-01-06T08:40:49.881326Z",
     "shell.execute_reply": "2023-01-06T08:40:49.880352Z"
    },
    "papermill": {
     "duration": 0.152918,
     "end_time": "2023-01-06T08:40:49.883709",
     "exception": false,
     "start_time": "2023-01-06T08:40:49.730791",
     "status": "completed"
    },
    "tags": []
   },
   "outputs": [],
   "source": [
    "# preprocess the text\n",
    "clean(mapping)"
   ]
  },
  {
   "cell_type": "code",
   "execution_count": 13,
   "id": "39fd2a1f",
   "metadata": {
    "execution": {
     "iopub.execute_input": "2023-01-06T08:40:49.906629Z",
     "iopub.status.busy": "2023-01-06T08:40:49.906301Z",
     "iopub.status.idle": "2023-01-06T08:40:49.912420Z",
     "shell.execute_reply": "2023-01-06T08:40:49.911448Z"
    },
    "papermill": {
     "duration": 0.019829,
     "end_time": "2023-01-06T08:40:49.914480",
     "exception": false,
     "start_time": "2023-01-06T08:40:49.894651",
     "status": "completed"
    },
    "tags": []
   },
   "outputs": [
    {
     "data": {
      "text/plain": [
       "['startseq child in pink dress is climbing up set of stairs in an entry way endseq',\n",
       " 'startseq girl going into wooden building endseq',\n",
       " 'startseq little girl climbing into wooden playhouse endseq',\n",
       " 'startseq little girl climbing the stairs to her playhouse endseq',\n",
       " 'startseq little girl in pink dress going into wooden cabin endseq']"
      ]
     },
     "execution_count": 13,
     "metadata": {},
     "output_type": "execute_result"
    }
   ],
   "source": [
    "# after preprocess of text\n",
    "mapping['1000268201_693b08cb0e']"
   ]
  },
  {
   "cell_type": "code",
   "execution_count": 14,
   "id": "87184ec2",
   "metadata": {
    "execution": {
     "iopub.execute_input": "2023-01-06T08:40:49.937117Z",
     "iopub.status.busy": "2023-01-06T08:40:49.936292Z",
     "iopub.status.idle": "2023-01-06T08:40:49.951315Z",
     "shell.execute_reply": "2023-01-06T08:40:49.950478Z"
    },
    "papermill": {
     "duration": 0.028668,
     "end_time": "2023-01-06T08:40:49.953463",
     "exception": false,
     "start_time": "2023-01-06T08:40:49.924795",
     "status": "completed"
    },
    "tags": []
   },
   "outputs": [],
   "source": [
    "all_captions = []\n",
    "for key in mapping:\n",
    "    for caption in mapping[key]:\n",
    "        all_captions.append(caption)"
   ]
  },
  {
   "cell_type": "code",
   "execution_count": 15,
   "id": "2d891fe4",
   "metadata": {
    "execution": {
     "iopub.execute_input": "2023-01-06T08:40:49.976030Z",
     "iopub.status.busy": "2023-01-06T08:40:49.975759Z",
     "iopub.status.idle": "2023-01-06T08:40:49.982977Z",
     "shell.execute_reply": "2023-01-06T08:40:49.981843Z"
    },
    "papermill": {
     "duration": 0.021058,
     "end_time": "2023-01-06T08:40:49.985074",
     "exception": false,
     "start_time": "2023-01-06T08:40:49.964016",
     "status": "completed"
    },
    "tags": []
   },
   "outputs": [
    {
     "data": {
      "text/plain": [
       "40455"
      ]
     },
     "execution_count": 15,
     "metadata": {},
     "output_type": "execute_result"
    }
   ],
   "source": [
    "len(all_captions)"
   ]
  },
  {
   "cell_type": "code",
   "execution_count": 16,
   "id": "6a4d8bb6",
   "metadata": {
    "execution": {
     "iopub.execute_input": "2023-01-06T08:40:50.008018Z",
     "iopub.status.busy": "2023-01-06T08:40:50.007728Z",
     "iopub.status.idle": "2023-01-06T08:40:50.013980Z",
     "shell.execute_reply": "2023-01-06T08:40:50.012991Z"
    },
    "papermill": {
     "duration": 0.020099,
     "end_time": "2023-01-06T08:40:50.015994",
     "exception": false,
     "start_time": "2023-01-06T08:40:49.995895",
     "status": "completed"
    },
    "tags": []
   },
   "outputs": [
    {
     "data": {
      "text/plain": [
       "['startseq child in pink dress is climbing up set of stairs in an entry way endseq',\n",
       " 'startseq girl going into wooden building endseq',\n",
       " 'startseq little girl climbing into wooden playhouse endseq',\n",
       " 'startseq little girl climbing the stairs to her playhouse endseq',\n",
       " 'startseq little girl in pink dress going into wooden cabin endseq',\n",
       " 'startseq black dog and spotted dog are fighting endseq',\n",
       " 'startseq black dog and tri-colored dog playing with each other on the road endseq',\n",
       " 'startseq black dog and white dog with brown spots are staring at each other in the street endseq',\n",
       " 'startseq two dogs of different breeds looking at each other on the road endseq',\n",
       " 'startseq two dogs on pavement moving toward each other endseq']"
      ]
     },
     "execution_count": 16,
     "metadata": {},
     "output_type": "execute_result"
    }
   ],
   "source": [
    "all_captions[:10]"
   ]
  },
  {
   "cell_type": "code",
   "execution_count": 17,
   "id": "c8576317",
   "metadata": {
    "execution": {
     "iopub.execute_input": "2023-01-06T08:40:50.039583Z",
     "iopub.status.busy": "2023-01-06T08:40:50.038790Z",
     "iopub.status.idle": "2023-01-06T08:40:50.682698Z",
     "shell.execute_reply": "2023-01-06T08:40:50.681545Z"
    },
    "papermill": {
     "duration": 0.658163,
     "end_time": "2023-01-06T08:40:50.685145",
     "exception": false,
     "start_time": "2023-01-06T08:40:50.026982",
     "status": "completed"
    },
    "tags": []
   },
   "outputs": [],
   "source": [
    "# tokenize the text\n",
    "tokenizer = Tokenizer()\n",
    "tokenizer.fit_on_texts(all_captions)\n",
    "vocab_size = len(tokenizer.word_index) + 1"
   ]
  },
  {
   "cell_type": "code",
   "execution_count": 18,
   "id": "2f2d8680",
   "metadata": {
    "execution": {
     "iopub.execute_input": "2023-01-06T08:40:50.710070Z",
     "iopub.status.busy": "2023-01-06T08:40:50.708326Z",
     "iopub.status.idle": "2023-01-06T08:40:50.715696Z",
     "shell.execute_reply": "2023-01-06T08:40:50.714612Z"
    },
    "papermill": {
     "duration": 0.021817,
     "end_time": "2023-01-06T08:40:50.717903",
     "exception": false,
     "start_time": "2023-01-06T08:40:50.696086",
     "status": "completed"
    },
    "tags": []
   },
   "outputs": [
    {
     "data": {
      "text/plain": [
       "8485"
      ]
     },
     "execution_count": 18,
     "metadata": {},
     "output_type": "execute_result"
    }
   ],
   "source": [
    "vocab_size"
   ]
  },
  {
   "cell_type": "code",
   "execution_count": 19,
   "id": "adeab8f2",
   "metadata": {
    "execution": {
     "iopub.execute_input": "2023-01-06T08:40:50.741257Z",
     "iopub.status.busy": "2023-01-06T08:40:50.740916Z",
     "iopub.status.idle": "2023-01-06T08:40:50.776723Z",
     "shell.execute_reply": "2023-01-06T08:40:50.775658Z"
    },
    "papermill": {
     "duration": 0.049601,
     "end_time": "2023-01-06T08:40:50.778691",
     "exception": false,
     "start_time": "2023-01-06T08:40:50.729090",
     "status": "completed"
    },
    "tags": []
   },
   "outputs": [
    {
     "data": {
      "text/plain": [
       "35"
      ]
     },
     "execution_count": 19,
     "metadata": {},
     "output_type": "execute_result"
    }
   ],
   "source": [
    "# get maximum length of the caption available\n",
    "max_length = max(len(caption.split()) for caption in all_captions)\n",
    "max_length"
   ]
  },
  {
   "cell_type": "code",
   "execution_count": 20,
   "id": "ffa644fc",
   "metadata": {
    "execution": {
     "iopub.execute_input": "2023-01-06T08:40:50.801921Z",
     "iopub.status.busy": "2023-01-06T08:40:50.801644Z",
     "iopub.status.idle": "2023-01-06T08:40:50.807125Z",
     "shell.execute_reply": "2023-01-06T08:40:50.806084Z"
    },
    "papermill": {
     "duration": 0.019869,
     "end_time": "2023-01-06T08:40:50.809669",
     "exception": false,
     "start_time": "2023-01-06T08:40:50.789800",
     "status": "completed"
    },
    "tags": []
   },
   "outputs": [],
   "source": [
    "image_ids = list(mapping.keys())\n",
    "split = int(len(image_ids) * 0.90)\n",
    "train = image_ids[:split]\n",
    "test = image_ids[split:]"
   ]
  },
  {
   "cell_type": "code",
   "execution_count": 21,
   "id": "7f557ace",
   "metadata": {
    "execution": {
     "iopub.execute_input": "2023-01-06T08:40:50.832572Z",
     "iopub.status.busy": "2023-01-06T08:40:50.832266Z",
     "iopub.status.idle": "2023-01-06T08:40:50.842128Z",
     "shell.execute_reply": "2023-01-06T08:40:50.841196Z"
    },
    "papermill": {
     "duration": 0.023951,
     "end_time": "2023-01-06T08:40:50.844447",
     "exception": false,
     "start_time": "2023-01-06T08:40:50.820496",
     "status": "completed"
    },
    "tags": []
   },
   "outputs": [],
   "source": [
    "# create data generator to get data in batch (avoids session crash)\n",
    "def data_generator(data_keys, mapping, features, tokenizer, max_length, vocab_size, batch_size):\n",
    "    # loop over images\n",
    "    X1, X2, y = list(), list(), list()\n",
    "    n = 0\n",
    "    while 1:\n",
    "        for key in data_keys:\n",
    "            n += 1\n",
    "            captions = mapping[key]\n",
    "            # process each caption\n",
    "            for caption in captions:\n",
    "                # encode the sequence\n",
    "                seq = tokenizer.texts_to_sequences([caption])[0]\n",
    "                # split the sequence into X, y pairs\n",
    "                for i in range(1, len(seq)):\n",
    "                    # split into input and output pairs\n",
    "                    in_seq, out_seq = seq[:i], seq[i]\n",
    "                    # pad input sequence\n",
    "                    in_seq = pad_sequences([in_seq], maxlen=max_length)[0]\n",
    "                    # encode output sequence\n",
    "                    out_seq = to_categorical([out_seq], num_classes=vocab_size)[0]\n",
    "                    \n",
    "                    # store the sequences\n",
    "                    X1.append(features[key][0])\n",
    "                    X2.append(in_seq)\n",
    "                    y.append(out_seq)\n",
    "            if n == batch_size:\n",
    "                X1, X2, y = np.array(X1), np.array(X2), np.array(y)\n",
    "                yield [X1, X2], y\n",
    "                X1, X2, y = list(), list(), list()\n",
    "                n = 0"
   ]
  },
  {
   "cell_type": "code",
   "execution_count": 22,
   "id": "de5e08be",
   "metadata": {
    "execution": {
     "iopub.execute_input": "2023-01-06T08:40:50.867163Z",
     "iopub.status.busy": "2023-01-06T08:40:50.866900Z",
     "iopub.status.idle": "2023-01-06T08:40:51.708783Z",
     "shell.execute_reply": "2023-01-06T08:40:51.707372Z"
    },
    "papermill": {
     "duration": 0.856254,
     "end_time": "2023-01-06T08:40:51.711298",
     "exception": false,
     "start_time": "2023-01-06T08:40:50.855044",
     "status": "completed"
    },
    "tags": []
   },
   "outputs": [],
   "source": [
    "# encoder model\n",
    "# image feature layers\n",
    "inputs1 = Input(shape=(4096,))\n",
    "fe1 = Dropout(0.4)(inputs1)\n",
    "fe2 = Dense(256, activation='relu')(fe1)\n",
    "# sequence feature layers\n",
    "inputs2 = Input(shape=(max_length,))\n",
    "se1 = Embedding(vocab_size, 256, mask_zero=True)(inputs2)\n",
    "se2 = Dropout(0.4)(se1)\n",
    "se3 = LSTM(256)(se2)\n",
    "\n"
   ]
  },
  {
   "cell_type": "code",
   "execution_count": 23,
   "id": "7a9b809f",
   "metadata": {
    "execution": {
     "iopub.execute_input": "2023-01-06T08:40:51.735605Z",
     "iopub.status.busy": "2023-01-06T08:40:51.734775Z",
     "iopub.status.idle": "2023-01-06T08:40:53.898455Z",
     "shell.execute_reply": "2023-01-06T08:40:53.897206Z"
    },
    "papermill": {
     "duration": 2.177996,
     "end_time": "2023-01-06T08:40:53.900824",
     "exception": false,
     "start_time": "2023-01-06T08:40:51.722828",
     "status": "completed"
    },
    "tags": []
   },
   "outputs": [
    {
     "data": {
      "image/png": "[encoded data removed]",
      "text/plain": [
       "<IPython.core.display.Image object>"
      ]
     },
     "execution_count": 23,
     "metadata": {},
     "output_type": "execute_result"
    }
   ],
   "source": [
    "# decoder model\n",
    "decoder1 = add([fe2, se3])\n",
    "decoder2 = Dense(256, activation='relu')(decoder1)\n",
    "outputs = Dense(vocab_size, activation='softmax')(decoder2)\n",
    "\n",
    "model = Model(inputs=[inputs1, inputs2], outputs=outputs)\n",
    "model.compile(loss='categorical_crossentropy', optimizer='adam')\n",
    "\n",
    "# plot the model\n",
    "plot_model(model, show_shapes=True)"
   ]
  },
  {
   "cell_type": "code",
   "execution_count": 24,
   "id": "b4ce4f6e",
   "metadata": {
    "execution": {
     "iopub.execute_input": "2023-01-06T08:40:53.928195Z",
     "iopub.status.busy": "2023-01-06T08:40:53.927293Z",
     "iopub.status.idle": "2023-01-06T08:40:53.995477Z",
     "shell.execute_reply": "2023-01-06T08:40:53.994318Z"
    },
    "papermill": {
     "duration": 0.084884,
     "end_time": "2023-01-06T08:40:53.998246",
     "exception": false,
     "start_time": "2023-01-06T08:40:53.913362",
     "status": "completed"
    },
    "tags": []
   },
   "outputs": [
    {
     "name": "stderr",
     "output_type": "stream",
     "text": [
      "/opt/conda/lib/python3.7/site-packages/keras/utils/generic_utils.py:497: CustomMaskWarning: Custom mask layers require a config and must override get_config. When loading, the custom mask layer must be passed to the custom_objects argument.\n",
      "  category=CustomMaskWarning)\n"
     ]
    }
   ],
   "source": [
    "# save the model\n",
    "model.save(WORKING_DIR+'/best_model.h5')"
   ]
  },
  {
   "cell_type": "code",
   "execution_count": 25,
   "id": "c5705bb7",
   "metadata": {
    "execution": {
     "iopub.execute_input": "2023-01-06T08:40:54.028752Z",
     "iopub.status.busy": "2023-01-06T08:40:54.027122Z",
     "iopub.status.idle": "2023-01-06T09:06:14.526332Z",
     "shell.execute_reply": "2023-01-06T09:06:14.525312Z"
    },
    "papermill": {
     "duration": 1520.515175,
     "end_time": "2023-01-06T09:06:14.528674",
     "exception": false,
     "start_time": "2023-01-06T08:40:54.013499",
     "status": "completed"
    },
    "tags": []
   },
   "outputs": [
    {
     "name": "stdout",
     "output_type": "stream",
     "text": [
      "227/227 [==============================] - 74s 311ms/step - loss: 5.2189\n",
      "227/227 [==============================] - 71s 312ms/step - loss: 4.0410\n",
      "227/227 [==============================] - 71s 314ms/step - loss: 3.6115\n",
      "227/227 [==============================] - 69s 304ms/step - loss: 3.3398\n",
      "227/227 [==============================] - 70s 307ms/step - loss: 3.1349\n",
      "227/227 [==============================] - 69s 304ms/step - loss: 2.9797\n",
      "227/227 [==============================] - 71s 312ms/step - loss: 2.8632\n",
      "227/227 [==============================] - 69s 305ms/step - loss: 2.7685\n",
      "227/227 [==============================] - 71s 312ms/step - loss: 2.6871\n",
      "227/227 [==============================] - 71s 311ms/step - loss: 2.6170\n",
      "227/227 [==============================] - 71s 314ms/step - loss: 2.5562\n",
      "227/227 [==============================] - 70s 306ms/step - loss: 2.4988\n",
      "227/227 [==============================] - 71s 314ms/step - loss: 2.4474\n",
      "227/227 [==============================] - 72s 316ms/step - loss: 2.3986\n",
      "227/227 [==============================] - 71s 313ms/step - loss: 2.3556\n",
      "227/227 [==============================] - 72s 315ms/step - loss: 2.3158\n",
      "227/227 [==============================] - 71s 315ms/step - loss: 2.2774\n",
      "227/227 [==============================] - 70s 310ms/step - loss: 2.2474\n",
      "227/227 [==============================] - 70s 306ms/step - loss: 2.2216\n",
      "227/227 [==============================] - 69s 304ms/step - loss: 2.1917\n"
     ]
    }
   ],
   "source": [
    "# train the model\n",
    "epochs = 20\n",
    "batch_size = 32\n",
    "steps = len(train) // batch_size\n",
    "\n",
    "for i in range(epochs):\n",
    "    # create data generator\n",
    "    generator = data_generator(train, mapping, features, tokenizer, max_length, vocab_size, batch_size)\n",
    "    # fit for one epoch\n",
    "    model.fit(generator, epochs=1, steps_per_epoch=steps, verbose=1)"
   ]
  },
  {
   "cell_type": "code",
   "execution_count": 26,
   "id": "097d52f4",
   "metadata": {
    "execution": {
     "iopub.execute_input": "2023-01-06T09:06:15.051444Z",
     "iopub.status.busy": "2023-01-06T09:06:15.049489Z",
     "iopub.status.idle": "2023-01-06T09:06:34.670566Z",
     "shell.execute_reply": "2023-01-06T09:06:34.669346Z"
    },
    "papermill": {
     "duration": 19.889485,
     "end_time": "2023-01-06T09:06:34.673728",
     "exception": false,
     "start_time": "2023-01-06T09:06:14.784243",
     "status": "completed"
    },
    "tags": []
   },
   "outputs": [
    {
     "name": "stdout",
     "output_type": "stream",
     "text": [
      "Collecting streamlit\r\n",
      "  Downloading streamlit-1.16.0-py2.py3-none-any.whl (9.2 MB)\r\n",
      "\u001b[2K     \u001b[90m━━━━━━━━━━━━━━━━━━━━━━━━━━━━━━━━━━━━━━━━\u001b[0m \u001b[32m9.2/9.2 MB\u001b[0m \u001b[31m35.0 MB/s\u001b[0m eta \u001b[36m0:00:00\u001b[0m\r\n",
      "\u001b[?25hRequirement already satisfied: pandas>=0.21.0 in /opt/conda/lib/python3.7/site-packages (from streamlit) (1.3.5)\r\n",
      "Requirement already satisfied: pympler>=0.9 in /opt/conda/lib/python3.7/site-packages (from streamlit) (1.0.1)\r\n",
      "Requirement already satisfied: requests>=2.4 in /opt/conda/lib/python3.7/site-packages (from streamlit) (2.28.1)\r\n",
      "Requirement already satisfied: cachetools>=4.0 in /opt/conda/lib/python3.7/site-packages (from streamlit) (4.2.4)\r\n",
      "Requirement already satisfied: toml in /opt/conda/lib/python3.7/site-packages (from streamlit) (0.10.2)\r\n",
      "Collecting pydeck>=0.1.dev5\r\n",
      "  Downloading pydeck-0.8.0-py2.py3-none-any.whl (4.7 MB)\r\n",
      "\u001b[2K     \u001b[90m━━━━━━━━━━━━━━━━━━━━━━━━━━━━━━━━━━━━━━━━\u001b[0m \u001b[32m4.7/4.7 MB\u001b[0m \u001b[31m59.6 MB/s\u001b[0m eta \u001b[36m0:00:00\u001b[0m\r\n",
      "\u001b[?25hRequirement already satisfied: gitpython!=3.1.19 in /opt/conda/lib/python3.7/site-packages (from streamlit) (3.1.27)\r\n",
      "Requirement already satisfied: altair>=3.2.0 in /opt/conda/lib/python3.7/site-packages (from streamlit) (4.2.0)\r\n",
      "Requirement already satisfied: typing-extensions>=3.10.0.0 in /opt/conda/lib/python3.7/site-packages (from streamlit) (4.1.1)\r\n",
      "Requirement already satisfied: tornado>=5.0 in /opt/conda/lib/python3.7/site-packages (from streamlit) (6.1)\r\n",
      "Requirement already satisfied: python-dateutil in /opt/conda/lib/python3.7/site-packages (from streamlit) (2.8.2)\r\n",
      "Requirement already satisfied: protobuf<4,>=3.12 in /opt/conda/lib/python3.7/site-packages (from streamlit) (3.19.4)\r\n",
      "Requirement already satisfied: importlib-metadata>=1.4 in /opt/conda/lib/python3.7/site-packages (from streamlit) (4.13.0)\r\n",
      "Requirement already satisfied: tzlocal>=1.1 in /opt/conda/lib/python3.7/site-packages (from streamlit) (4.2)\r\n",
      "Requirement already satisfied: packaging>=14.1 in /opt/conda/lib/python3.7/site-packages (from streamlit) (21.3)\r\n",
      "Requirement already satisfied: rich>=10.11.0 in /opt/conda/lib/python3.7/site-packages (from streamlit) (12.6.0)\r\n",
      "Requirement already satisfied: numpy in /opt/conda/lib/python3.7/site-packages (from streamlit) (1.21.6)\r\n",
      "Requirement already satisfied: pyarrow>=4.0 in /opt/conda/lib/python3.7/site-packages (from streamlit) (5.0.0)\r\n",
      "Requirement already satisfied: pillow>=6.2.0 in /opt/conda/lib/python3.7/site-packages (from streamlit) (9.1.1)\r\n",
      "Requirement already satisfied: click>=7.0 in /opt/conda/lib/python3.7/site-packages (from streamlit) (8.0.4)\r\n",
      "Requirement already satisfied: semver in /opt/conda/lib/python3.7/site-packages (from streamlit) (2.13.0)\r\n",
      "Requirement already satisfied: blinker>=1.0.0 in /opt/conda/lib/python3.7/site-packages (from streamlit) (1.4)\r\n",
      "Collecting validators>=0.2\r\n",
      "  Downloading validators-0.20.0.tar.gz (30 kB)\r\n",
      "  Preparing metadata (setup.py) ... \u001b[?25l-\b \b\\\b \bdone\r\n",
      "\u001b[?25hCollecting watchdog\r\n",
      "  Downloading watchdog-2.2.1-py3-none-manylinux2014_x86_64.whl (78 kB)\r\n",
      "\u001b[2K     \u001b[90m━━━━━━━━━━━━━━━━━━━━━━━━━━━━━━━━━━━━━━━━\u001b[0m \u001b[32m79.0/79.0 kB\u001b[0m \u001b[31m8.2 MB/s\u001b[0m eta \u001b[36m0:00:00\u001b[0m\r\n",
      "\u001b[?25hRequirement already satisfied: toolz in /opt/conda/lib/python3.7/site-packages (from altair>=3.2.0->streamlit) (0.11.2)\r\n",
      "Requirement already satisfied: jsonschema>=3.0 in /opt/conda/lib/python3.7/site-packages (from altair>=3.2.0->streamlit) (4.6.1)\r\n",
      "Requirement already satisfied: entrypoints in /opt/conda/lib/python3.7/site-packages (from altair>=3.2.0->streamlit) (0.4)\r\n",
      "Requirement already satisfied: jinja2 in /opt/conda/lib/python3.7/site-packages (from altair>=3.2.0->streamlit) (3.1.2)\r\n",
      "Requirement already satisfied: gitdb<5,>=4.0.1 in /opt/conda/lib/python3.7/site-packages (from gitpython!=3.1.19->streamlit) (4.0.9)\r\n",
      "Requirement already satisfied: zipp>=0.5 in /opt/conda/lib/python3.7/site-packages (from importlib-metadata>=1.4->streamlit) (3.8.0)\r\n",
      "Requirement already satisfied: pyparsing!=3.0.5,>=2.0.2 in /opt/conda/lib/python3.7/site-packages (from packaging>=14.1->streamlit) (3.0.9)\r\n",
      "Requirement already satisfied: pytz>=2017.3 in /opt/conda/lib/python3.7/site-packages (from pandas>=0.21.0->streamlit) (2022.1)\r\n",
      "Requirement already satisfied: six>=1.5 in /opt/conda/lib/python3.7/site-packages (from python-dateutil->streamlit) (1.15.0)\r\n",
      "Requirement already satisfied: certifi>=2017.4.17 in /opt/conda/lib/python3.7/site-packages (from requests>=2.4->streamlit) (2022.9.24)\r\n",
      "Requirement already satisfied: idna<4,>=2.5 in /opt/conda/lib/python3.7/site-packages (from requests>=2.4->streamlit) (3.3)\r\n",
      "Requirement already satisfied: urllib3<1.27,>=1.21.1 in /opt/conda/lib/python3.7/site-packages (from requests>=2.4->streamlit) (1.26.13)\r\n",
      "Requirement already satisfied: charset-normalizer<3,>=2 in /opt/conda/lib/python3.7/site-packages (from requests>=2.4->streamlit) (2.1.0)\r\n",
      "Requirement already satisfied: commonmark<0.10.0,>=0.9.0 in /opt/conda/lib/python3.7/site-packages (from rich>=10.11.0->streamlit) (0.9.1)\r\n",
      "Requirement already satisfied: pygments<3.0.0,>=2.6.0 in /opt/conda/lib/python3.7/site-packages (from rich>=10.11.0->streamlit) (2.12.0)\r\n",
      "Requirement already satisfied: pytz-deprecation-shim in /opt/conda/lib/python3.7/site-packages (from tzlocal>=1.1->streamlit) (0.1.0.post0)\r\n",
      "Requirement already satisfied: backports.zoneinfo in /opt/conda/lib/python3.7/site-packages (from tzlocal>=1.1->streamlit) (0.2.1)\r\n",
      "Requirement already satisfied: decorator>=3.4.0 in /opt/conda/lib/python3.7/site-packages (from validators>=0.2->streamlit) (5.1.1)\r\n",
      "Requirement already satisfied: smmap<6,>=3.0.1 in /opt/conda/lib/python3.7/site-packages (from gitdb<5,>=4.0.1->gitpython!=3.1.19->streamlit) (3.0.5)\r\n",
      "Requirement already satisfied: MarkupSafe>=2.0 in /opt/conda/lib/python3.7/site-packages (from jinja2->altair>=3.2.0->streamlit) (2.1.1)\r\n",
      "Requirement already satisfied: importlib-resources>=1.4.0 in /opt/conda/lib/python3.7/site-packages (from jsonschema>=3.0->altair>=3.2.0->streamlit) (5.8.0)\r\n",
      "Requirement already satisfied: attrs>=17.4.0 in /opt/conda/lib/python3.7/site-packages (from jsonschema>=3.0->altair>=3.2.0->streamlit) (21.4.0)\r\n",
      "Requirement already satisfied: pyrsistent!=0.17.0,!=0.17.1,!=0.17.2,>=0.14.0 in /opt/conda/lib/python3.7/site-packages (from jsonschema>=3.0->altair>=3.2.0->streamlit) (0.18.1)\r\n",
      "Requirement already satisfied: tzdata in /opt/conda/lib/python3.7/site-packages (from pytz-deprecation-shim->tzlocal>=1.1->streamlit) (2022.7)\r\n",
      "Building wheels for collected packages: validators\r\n",
      "  Building wheel for validators (setup.py) ... \u001b[?25l-\b \b\\\b \bdone\r\n",
      "\u001b[?25h  Created wheel for validators: filename=validators-0.20.0-py3-none-any.whl size=19582 sha256=7631e80d30bf18736bb6be578a016e19822d975c7ed9c6f835c8bdc78b6b7e91\r\n",
      "  Stored in directory: /root/.cache/pip/wheels/5f/55/ab/36a76989f7f88d9ca7b1f68da6d94252bb6a8d6ad4f18e04e9\r\n",
      "Successfully built validators\r\n",
      "Installing collected packages: watchdog, validators, pydeck, streamlit\r\n",
      "Successfully installed pydeck-0.8.0 streamlit-1.16.0 validators-0.20.0 watchdog-2.2.1\r\n",
      "\u001b[33mWARNING: Running pip as the 'root' user can result in broken permissions and conflicting behaviour with the system package manager. It is recommended to use a virtual environment instead: https://pip.pypa.io/warnings/venv\u001b[0m\u001b[33m\r\n",
      "\u001b[0m"
     ]
    }
   ],
   "source": [
    "!pip install streamlit"
   ]
  },
  {
   "cell_type": "code",
   "execution_count": 27,
   "id": "020eb81a",
   "metadata": {
    "execution": {
     "iopub.execute_input": "2023-01-06T09:06:35.197269Z",
     "iopub.status.busy": "2023-01-06T09:06:35.196841Z",
     "iopub.status.idle": "2023-01-06T09:06:47.351188Z",
     "shell.execute_reply": "2023-01-06T09:06:47.350030Z"
    },
    "papermill": {
     "duration": 12.412581,
     "end_time": "2023-01-06T09:06:47.353819",
     "exception": false,
     "start_time": "2023-01-06T09:06:34.941238",
     "status": "completed"
    },
    "tags": []
   },
   "outputs": [
    {
     "name": "stdout",
     "output_type": "stream",
     "text": [
      "Collecting pyngrok\r\n",
      "  Downloading pyngrok-5.2.1.tar.gz (761 kB)\r\n",
      "\u001b[2K     \u001b[90m━━━━━━━━━━━━━━━━━━━━━━━━━━━━━━━━━━━━━━━\u001b[0m \u001b[32m761.3/761.3 kB\u001b[0m \u001b[31m6.3 MB/s\u001b[0m eta \u001b[36m0:00:00\u001b[0m\r\n",
      "\u001b[?25h  Preparing metadata (setup.py) ... \u001b[?25l-\b \bdone\r\n",
      "\u001b[?25hRequirement already satisfied: PyYAML in /opt/conda/lib/python3.7/site-packages (from pyngrok) (6.0)\r\n",
      "Building wheels for collected packages: pyngrok\r\n",
      "  Building wheel for pyngrok (setup.py) ... \u001b[?25l-\b \b\\\b \bdone\r\n",
      "\u001b[?25h  Created wheel for pyngrok: filename=pyngrok-5.2.1-py3-none-any.whl size=19793 sha256=aa81d1699ec49676b10e2928b7987314831fac5f0549f83543acae22b56fd68d\r\n",
      "  Stored in directory: /root/.cache/pip/wheels/bd/77/d3/ebfe524b4ba66f80fe71ec1e3aae9301ed085effa1a3e23919\r\n",
      "Successfully built pyngrok\r\n",
      "Installing collected packages: pyngrok\r\n",
      "Successfully installed pyngrok-5.2.1\r\n",
      "\u001b[33mWARNING: Running pip as the 'root' user can result in broken permissions and conflicting behaviour with the system package manager. It is recommended to use a virtual environment instead: https://pip.pypa.io/warnings/venv\u001b[0m\u001b[33m\r\n",
      "\u001b[0m"
     ]
    }
   ],
   "source": [
    "!pip install pyngrok"
   ]
  },
  {
   "cell_type": "code",
   "execution_count": 28,
   "id": "97d82a2f",
   "metadata": {
    "execution": {
     "iopub.execute_input": "2023-01-06T09:06:47.926695Z",
     "iopub.status.busy": "2023-01-06T09:06:47.925711Z",
     "iopub.status.idle": "2023-01-06T09:06:49.017293Z",
     "shell.execute_reply": "2023-01-06T09:06:49.015934Z"
    },
    "papermill": {
     "duration": 1.351953,
     "end_time": "2023-01-06T09:06:49.019909",
     "exception": false,
     "start_time": "2023-01-06T09:06:47.667956",
     "status": "completed"
    },
    "tags": []
   },
   "outputs": [
    {
     "name": "stdout",
     "output_type": "stream",
     "text": [
      "/bin/bash: ./ngrok: No such file or directory\r\n"
     ]
    }
   ],
   "source": [
    "!./ngrok authtokens 2JondX1Eey8MuCwGJ6RqWWw2GNE_3dvTw441Y1HyQdWQEMFLN"
   ]
  },
  {
   "cell_type": "code",
   "execution_count": 29,
   "id": "d0077a43",
   "metadata": {
    "execution": {
     "iopub.execute_input": "2023-01-06T09:06:49.553580Z",
     "iopub.status.busy": "2023-01-06T09:06:49.553110Z",
     "iopub.status.idle": "2023-01-06T09:06:49.614873Z",
     "shell.execute_reply": "2023-01-06T09:06:49.613883Z"
    },
    "papermill": {
     "duration": 0.325897,
     "end_time": "2023-01-06T09:06:49.617259",
     "exception": false,
     "start_time": "2023-01-06T09:06:49.291362",
     "status": "completed"
    },
    "tags": []
   },
   "outputs": [],
   "source": [
    "from pyngrok import ngrok \n"
   ]
  },
  {
   "cell_type": "code",
   "execution_count": 30,
   "id": "5799aed7",
   "metadata": {
    "execution": {
     "iopub.execute_input": "2023-01-06T09:06:50.138765Z",
     "iopub.status.busy": "2023-01-06T09:06:50.138075Z",
     "iopub.status.idle": "2023-01-06T09:06:52.616043Z",
     "shell.execute_reply": "2023-01-06T09:06:52.614990Z"
    },
    "papermill": {
     "duration": 2.746554,
     "end_time": "2023-01-06T09:06:52.618412",
     "exception": false,
     "start_time": "2023-01-06T09:06:49.871858",
     "status": "completed"
    },
    "tags": []
   },
   "outputs": [
    {
     "name": "stdout",
     "output_type": "stream",
     "text": [
      "                                                                                                    \r"
     ]
    },
    {
     "data": {
      "text/plain": [
       "<NgrokTunnel: \"http://3aaa-34-171-36-200.ngrok.io\" -> \"http://localhost:80\">"
      ]
     },
     "execution_count": 30,
     "metadata": {},
     "output_type": "execute_result"
    }
   ],
   "source": [
    "public_url = ngrok.connect(port='8501')\n",
    "public_url\n"
   ]
  },
  {
   "cell_type": "code",
   "execution_count": 31,
   "id": "0cbdb6c9",
   "metadata": {
    "execution": {
     "iopub.execute_input": "2023-01-06T09:06:53.220210Z",
     "iopub.status.busy": "2023-01-06T09:06:53.219765Z",
     "iopub.status.idle": "2023-01-06T09:06:53.227655Z",
     "shell.execute_reply": "2023-01-06T09:06:53.226007Z"
    },
    "papermill": {
     "duration": 0.290517,
     "end_time": "2023-01-06T09:06:53.229960",
     "exception": true,
     "start_time": "2023-01-06T09:06:52.939443",
     "status": "failed"
    },
    "tags": []
   },
   "outputs": [
    {
     "ename": "SyntaxError",
     "evalue": "invalid syntax (3909347550.py, line 1)",
     "output_type": "error",
     "traceback": [
      "\u001b[0;36m  File \u001b[0;32m\"/tmp/ipykernel_23/3909347550.py\"\u001b[0;36m, line \u001b[0;32m1\u001b[0m\n\u001b[0;31m    print(/kaggle/working/features.pkl)\u001b[0m\n\u001b[0m          ^\u001b[0m\n\u001b[0;31mSyntaxError\u001b[0m\u001b[0;31m:\u001b[0m invalid syntax\n"
     ]
    }
   ],
   "source": [
    "print(/kaggle/working/features.pkl)"
   ]
  }
 ],
 "metadata": {
  "kernelspec": {
   "display_name": "Python 3",
   "language": "python",
   "name": "python3"
  },
  "language_info": {
   "codemirror_mode": {
    "name": "ipython",
    "version": 3
   },
   "file_extension": ".py",
   "mimetype": "text/x-python",
   "name": "python",
   "nbconvert_exporter": "python",
   "pygments_lexer": "ipython3",
   "version": "3.7.12"
  },
  "papermill": {
   "default_parameters": {},
   "duration": 2185.720121,
   "end_time": "2023-01-06T09:06:56.977957",
   "environment_variables": {},
   "exception": true,
   "input_path": "__notebook__.ipynb",
   "output_path": "__notebook__.ipynb",
   "parameters": {},
   "start_time": "2023-01-06T08:30:31.257836",
   "version": "2.3.4"
  },
  "widgets": {
   "application/vnd.jupyter.widget-state+json": {
    "state": {
     "0cf12435c70140b98ab3b84167b7e87c": {
      "model_module": "@jupyter-widgets/base",
      "model_module_version": "1.2.0",
      "model_name": "LayoutModel",
      "state": {
       "_model_module": "@jupyter-widgets/base",
       "_model_module_version": "1.2.0",
       "_model_name": "LayoutModel",
       "_view_count": null,
       "_view_module": "@jupyter-widgets/base",
       "_view_module_version": "1.2.0",
       "_view_name": "LayoutView",
       "align_content": null,
       "align_items": null,
       "align_self": null,
       "border": null,
       "bottom": null,
       "display": null,
       "flex": null,
       "flex_flow": null,
       "grid_area": null,
       "grid_auto_columns": null,
       "grid_auto_flow": null,
       "grid_auto_rows": null,
       "grid_column": null,
       "grid_gap": null,
       "grid_row": null,
       "grid_template_areas": null,
       "grid_template_columns": null,
       "grid_template_rows": null,
       "height": null,
       "justify_content": null,
       "justify_items": null,
       "left": null,
       "margin": null,
       "max_height": null,
       "max_width": null,
       "min_height": null,
       "min_width": null,
       "object_fit": null,
       "object_position": null,
       "order": null,
       "overflow": null,
       "overflow_x": null,
       "overflow_y": null,
       "padding": null,
       "right": null,
       "top": null,
       "visibility": null,
       "width": null
      }
     },
     "0daa7e64c35b48969dbc7fe36a159798": {
      "model_module": "@jupyter-widgets/controls",
      "model_module_version": "1.5.0",
      "model_name": "DescriptionStyleModel",
      "state": {
       "_model_module": "@jupyter-widgets/controls",
       "_model_module_version": "1.5.0",
       "_model_name": "DescriptionStyleModel",
       "_view_count": null,
       "_view_module": "@jupyter-widgets/base",
       "_view_module_version": "1.2.0",
       "_view_name": "StyleView",
       "description_width": ""
      }
     },
     "269d83c48e2548fca135bed96a2c3d0e": {
      "model_module": "@jupyter-widgets/controls",
      "model_module_version": "1.5.0",
      "model_name": "FloatProgressModel",
      "state": {
       "_dom_classes": [],
       "_model_module": "@jupyter-widgets/controls",
       "_model_module_version": "1.5.0",
       "_model_name": "FloatProgressModel",
       "_view_count": null,
       "_view_module": "@jupyter-widgets/controls",
       "_view_module_version": "1.5.0",
       "_view_name": "ProgressView",
       "bar_style": "success",
       "description": "",
       "description_tooltip": null,
       "layout": "IPY_MODEL_0cf12435c70140b98ab3b84167b7e87c",
       "max": 8091.0,
       "min": 0.0,
       "orientation": "horizontal",
       "style": "IPY_MODEL_64e9d7167ab7453ebb2acdadccd8795a",
       "value": 8091.0
      }
     },
     "4a4dbeac48ff4ed4a4c9b934efb7991c": {
      "model_module": "@jupyter-widgets/base",
      "model_module_version": "1.2.0",
      "model_name": "LayoutModel",
      "state": {
       "_model_module": "@jupyter-widgets/base",
       "_model_module_version": "1.2.0",
       "_model_name": "LayoutModel",
       "_view_count": null,
       "_view_module": "@jupyter-widgets/base",
       "_view_module_version": "1.2.0",
       "_view_name": "LayoutView",
       "align_content": null,
       "align_items": null,
       "align_self": null,
       "border": null,
       "bottom": null,
       "display": null,
       "flex": null,
       "flex_flow": null,
       "grid_area": null,
       "grid_auto_columns": null,
       "grid_auto_flow": null,
       "grid_auto_rows": null,
       "grid_column": null,
       "grid_gap": null,
       "grid_row": null,
       "grid_template_areas": null,
       "grid_template_columns": null,
       "grid_template_rows": null,
       "height": null,
       "justify_content": null,
       "justify_items": null,
       "left": null,
       "margin": null,
       "max_height": null,
       "max_width": null,
       "min_height": null,
       "min_width": null,
       "object_fit": null,
       "object_position": null,
       "order": null,
       "overflow": null,
       "overflow_x": null,
       "overflow_y": null,
       "padding": null,
       "right": null,
       "top": null,
       "visibility": null,
       "width": null
      }
     },
     "64e9d7167ab7453ebb2acdadccd8795a": {
      "model_module": "@jupyter-widgets/controls",
      "model_module_version": "1.5.0",
      "model_name": "ProgressStyleModel",
      "state": {
       "_model_module": "@jupyter-widgets/controls",
       "_model_module_version": "1.5.0",
       "_model_name": "ProgressStyleModel",
       "_view_count": null,
       "_view_module": "@jupyter-widgets/base",
       "_view_module_version": "1.2.0",
       "_view_name": "StyleView",
       "bar_color": null,
       "description_width": ""
      }
     },
     "6e9b6229325443f095ffb269bdff6baa": {
      "model_module": "@jupyter-widgets/controls",
      "model_module_version": "1.5.0",
      "model_name": "DescriptionStyleModel",
      "state": {
       "_model_module": "@jupyter-widgets/controls",
       "_model_module_version": "1.5.0",
       "_model_name": "DescriptionStyleModel",
       "_view_count": null,
       "_view_module": "@jupyter-widgets/base",
       "_view_module_version": "1.2.0",
       "_view_name": "StyleView",
       "description_width": ""
      }
     },
     "7243e5a062294a2f80d1d7a7ab5d931b": {
      "model_module": "@jupyter-widgets/controls",
      "model_module_version": "1.5.0",
      "model_name": "DescriptionStyleModel",
      "state": {
       "_model_module": "@jupyter-widgets/controls",
       "_model_module_version": "1.5.0",
       "_model_name": "DescriptionStyleModel",
       "_view_count": null,
       "_view_module": "@jupyter-widgets/base",
       "_view_module_version": "1.2.0",
       "_view_name": "StyleView",
       "description_width": ""
      }
     },
     "73e12b116071431f95367d953c026401": {
      "model_module": "@jupyter-widgets/controls",
      "model_module_version": "1.5.0",
      "model_name": "DescriptionStyleModel",
      "state": {
       "_model_module": "@jupyter-widgets/controls",
       "_model_module_version": "1.5.0",
       "_model_name": "DescriptionStyleModel",
       "_view_count": null,
       "_view_module": "@jupyter-widgets/base",
       "_view_module_version": "1.2.0",
       "_view_name": "StyleView",
       "description_width": ""
      }
     },
     "7ae200f820d84b92b402728beb897c66": {
      "model_module": "@jupyter-widgets/base",
      "model_module_version": "1.2.0",
      "model_name": "LayoutModel",
      "state": {
       "_model_module": "@jupyter-widgets/base",
       "_model_module_version": "1.2.0",
       "_model_name": "LayoutModel",
       "_view_count": null,
       "_view_module": "@jupyter-widgets/base",
       "_view_module_version": "1.2.0",
       "_view_name": "LayoutView",
       "align_content": null,
       "align_items": null,
       "align_self": null,
       "border": null,
       "bottom": null,
       "display": null,
       "flex": null,
       "flex_flow": null,
       "grid_area": null,
       "grid_auto_columns": null,
       "grid_auto_flow": null,
       "grid_auto_rows": null,
       "grid_column": null,
       "grid_gap": null,
       "grid_row": null,
       "grid_template_areas": null,
       "grid_template_columns": null,
       "grid_template_rows": null,
       "height": null,
       "justify_content": null,
       "justify_items": null,
       "left": null,
       "margin": null,
       "max_height": null,
       "max_width": null,
       "min_height": null,
       "min_width": null,
       "object_fit": null,
       "object_position": null,
       "order": null,
       "overflow": null,
       "overflow_x": null,
       "overflow_y": null,
       "padding": null,
       "right": null,
       "top": null,
       "visibility": null,
       "width": null
      }
     },
     "85f35c159d5740428f0208460295ac81": {
      "model_module": "@jupyter-widgets/controls",
      "model_module_version": "1.5.0",
      "model_name": "HTMLModel",
      "state": {
       "_dom_classes": [],
       "_model_module": "@jupyter-widgets/controls",
       "_model_module_version": "1.5.0",
       "_model_name": "HTMLModel",
       "_view_count": null,
       "_view_module": "@jupyter-widgets/controls",
       "_view_module_version": "1.5.0",
       "_view_name": "HTMLView",
       "description": "",
       "description_tooltip": null,
       "layout": "IPY_MODEL_df30cddaef82477094f1111005af023e",
       "placeholder": "​",
       "style": "IPY_MODEL_7243e5a062294a2f80d1d7a7ab5d931b",
       "value": " 8091/8091 [09:45&lt;00:00, 14.82it/s]"
      }
     },
     "981632af396047808c2e67e6f8f60aa9": {
      "model_module": "@jupyter-widgets/controls",
      "model_module_version": "1.5.0",
      "model_name": "HBoxModel",
      "state": {
       "_dom_classes": [],
       "_model_module": "@jupyter-widgets/controls",
       "_model_module_version": "1.5.0",
       "_model_name": "HBoxModel",
       "_view_count": null,
       "_view_module": "@jupyter-widgets/controls",
       "_view_module_version": "1.5.0",
       "_view_name": "HBoxView",
       "box_style": "",
       "children": [
        "IPY_MODEL_c7f0cbdbf63f4498b11ea8ae06d87175",
        "IPY_MODEL_c8986b00b8e74bf5bd0c935146f3d49f",
        "IPY_MODEL_b7f5a425f22146bd9df7b72b11b37723"
       ],
       "layout": "IPY_MODEL_4a4dbeac48ff4ed4a4c9b934efb7991c"
      }
     },
     "b7f5a425f22146bd9df7b72b11b37723": {
      "model_module": "@jupyter-widgets/controls",
      "model_module_version": "1.5.0",
      "model_name": "HTMLModel",
      "state": {
       "_dom_classes": [],
       "_model_module": "@jupyter-widgets/controls",
       "_model_module_version": "1.5.0",
       "_model_name": "HTMLModel",
       "_view_count": null,
       "_view_module": "@jupyter-widgets/controls",
       "_view_module_version": "1.5.0",
       "_view_name": "HTMLView",
       "description": "",
       "description_tooltip": null,
       "layout": "IPY_MODEL_bec423fbeae9484a8bd569d92aab7ed6",
       "placeholder": "​",
       "style": "IPY_MODEL_0daa7e64c35b48969dbc7fe36a159798",
       "value": " 40456/40456 [00:00&lt;00:00, 341468.81it/s]"
      }
     },
     "bcc126f07d4440ae8d1118e514b7eadf": {
      "model_module": "@jupyter-widgets/controls",
      "model_module_version": "1.5.0",
      "model_name": "ProgressStyleModel",
      "state": {
       "_model_module": "@jupyter-widgets/controls",
       "_model_module_version": "1.5.0",
       "_model_name": "ProgressStyleModel",
       "_view_count": null,
       "_view_module": "@jupyter-widgets/base",
       "_view_module_version": "1.2.0",
       "_view_name": "StyleView",
       "bar_color": null,
       "description_width": ""
      }
     },
     "bec423fbeae9484a8bd569d92aab7ed6": {
      "model_module": "@jupyter-widgets/base",
      "model_module_version": "1.2.0",
      "model_name": "LayoutModel",
      "state": {
       "_model_module": "@jupyter-widgets/base",
       "_model_module_version": "1.2.0",
       "_model_name": "LayoutModel",
       "_view_count": null,
       "_view_module": "@jupyter-widgets/base",
       "_view_module_version": "1.2.0",
       "_view_name": "LayoutView",
       "align_content": null,
       "align_items": null,
       "align_self": null,
       "border": null,
       "bottom": null,
       "display": null,
       "flex": null,
       "flex_flow": null,
       "grid_area": null,
       "grid_auto_columns": null,
       "grid_auto_flow": null,
       "grid_auto_rows": null,
       "grid_column": null,
       "grid_gap": null,
       "grid_row": null,
       "grid_template_areas": null,
       "grid_template_columns": null,
       "grid_template_rows": null,
       "height": null,
       "justify_content": null,
       "justify_items": null,
       "left": null,
       "margin": null,
       "max_height": null,
       "max_width": null,
       "min_height": null,
       "min_width": null,
       "object_fit": null,
       "object_position": null,
       "order": null,
       "overflow": null,
       "overflow_x": null,
       "overflow_y": null,
       "padding": null,
       "right": null,
       "top": null,
       "visibility": null,
       "width": null
      }
     },
     "c30f88156caf45afa5bacc86f708c798": {
      "model_module": "@jupyter-widgets/base",
      "model_module_version": "1.2.0",
      "model_name": "LayoutModel",
      "state": {
       "_model_module": "@jupyter-widgets/base",
       "_model_module_version": "1.2.0",
       "_model_name": "LayoutModel",
       "_view_count": null,
       "_view_module": "@jupyter-widgets/base",
       "_view_module_version": "1.2.0",
       "_view_name": "LayoutView",
       "align_content": null,
       "align_items": null,
       "align_self": null,
       "border": null,
       "bottom": null,
       "display": null,
       "flex": null,
       "flex_flow": null,
       "grid_area": null,
       "grid_auto_columns": null,
       "grid_auto_flow": null,
       "grid_auto_rows": null,
       "grid_column": null,
       "grid_gap": null,
       "grid_row": null,
       "grid_template_areas": null,
       "grid_template_columns": null,
       "grid_template_rows": null,
       "height": null,
       "justify_content": null,
       "justify_items": null,
       "left": null,
       "margin": null,
       "max_height": null,
       "max_width": null,
       "min_height": null,
       "min_width": null,
       "object_fit": null,
       "object_position": null,
       "order": null,
       "overflow": null,
       "overflow_x": null,
       "overflow_y": null,
       "padding": null,
       "right": null,
       "top": null,
       "visibility": null,
       "width": null
      }
     },
     "c3e809490a044adf9afee57fe9fad869": {
      "model_module": "@jupyter-widgets/controls",
      "model_module_version": "1.5.0",
      "model_name": "HTMLModel",
      "state": {
       "_dom_classes": [],
       "_model_module": "@jupyter-widgets/controls",
       "_model_module_version": "1.5.0",
       "_model_name": "HTMLModel",
       "_view_count": null,
       "_view_module": "@jupyter-widgets/controls",
       "_view_module_version": "1.5.0",
       "_view_name": "HTMLView",
       "description": "",
       "description_tooltip": null,
       "layout": "IPY_MODEL_fd6262fe04414b5490552be71be847b5",
       "placeholder": "​",
       "style": "IPY_MODEL_73e12b116071431f95367d953c026401",
       "value": "100%"
      }
     },
     "c7f0cbdbf63f4498b11ea8ae06d87175": {
      "model_module": "@jupyter-widgets/controls",
      "model_module_version": "1.5.0",
      "model_name": "HTMLModel",
      "state": {
       "_dom_classes": [],
       "_model_module": "@jupyter-widgets/controls",
       "_model_module_version": "1.5.0",
       "_model_name": "HTMLModel",
       "_view_count": null,
       "_view_module": "@jupyter-widgets/controls",
       "_view_module_version": "1.5.0",
       "_view_name": "HTMLView",
       "description": "",
       "description_tooltip": null,
       "layout": "IPY_MODEL_7ae200f820d84b92b402728beb897c66",
       "placeholder": "​",
       "style": "IPY_MODEL_6e9b6229325443f095ffb269bdff6baa",
       "value": "100%"
      }
     },
     "c8986b00b8e74bf5bd0c935146f3d49f": {
      "model_module": "@jupyter-widgets/controls",
      "model_module_version": "1.5.0",
      "model_name": "FloatProgressModel",
      "state": {
       "_dom_classes": [],
       "_model_module": "@jupyter-widgets/controls",
       "_model_module_version": "1.5.0",
       "_model_name": "FloatProgressModel",
       "_view_count": null,
       "_view_module": "@jupyter-widgets/controls",
       "_view_module_version": "1.5.0",
       "_view_name": "ProgressView",
       "bar_style": "success",
       "description": "",
       "description_tooltip": null,
       "layout": "IPY_MODEL_e6cb5afdf7f64721b9ecd66891b160ae",
       "max": 40456.0,
       "min": 0.0,
       "orientation": "horizontal",
       "style": "IPY_MODEL_bcc126f07d4440ae8d1118e514b7eadf",
       "value": 40456.0
      }
     },
     "df30cddaef82477094f1111005af023e": {
      "model_module": "@jupyter-widgets/base",
      "model_module_version": "1.2.0",
      "model_name": "LayoutModel",
      "state": {
       "_model_module": "@jupyter-widgets/base",
       "_model_module_version": "1.2.0",
       "_model_name": "LayoutModel",
       "_view_count": null,
       "_view_module": "@jupyter-widgets/base",
       "_view_module_version": "1.2.0",
       "_view_name": "LayoutView",
       "align_content": null,
       "align_items": null,
       "align_self": null,
       "border": null,
       "bottom": null,
       "display": null,
       "flex": null,
       "flex_flow": null,
       "grid_area": null,
       "grid_auto_columns": null,
       "grid_auto_flow": null,
       "grid_auto_rows": null,
       "grid_column": null,
       "grid_gap": null,
       "grid_row": null,
       "grid_template_areas": null,
       "grid_template_columns": null,
       "grid_template_rows": null,
       "height": null,
       "justify_content": null,
       "justify_items": null,
       "left": null,
       "margin": null,
       "max_height": null,
       "max_width": null,
       "min_height": null,
       "min_width": null,
       "object_fit": null,
       "object_position": null,
       "order": null,
       "overflow": null,
       "overflow_x": null,
       "overflow_y": null,
       "padding": null,
       "right": null,
       "top": null,
       "visibility": null,
       "width": null
      }
     },
     "e6cb5afdf7f64721b9ecd66891b160ae": {
      "model_module": "@jupyter-widgets/base",
      "model_module_version": "1.2.0",
      "model_name": "LayoutModel",
      "state": {
       "_model_module": "@jupyter-widgets/base",
       "_model_module_version": "1.2.0",
       "_model_name": "LayoutModel",
       "_view_count": null,
       "_view_module": "@jupyter-widgets/base",
       "_view_module_version": "1.2.0",
       "_view_name": "LayoutView",
       "align_content": null,
       "align_items": null,
       "align_self": null,
       "border": null,
       "bottom": null,
       "display": null,
       "flex": null,
       "flex_flow": null,
       "grid_area": null,
       "grid_auto_columns": null,
       "grid_auto_flow": null,
       "grid_auto_rows": null,
       "grid_column": null,
       "grid_gap": null,
       "grid_row": null,
       "grid_template_areas": null,
       "grid_template_columns": null,
       "grid_template_rows": null,
       "height": null,
       "justify_content": null,
       "justify_items": null,
       "left": null,
       "margin": null,
       "max_height": null,
       "max_width": null,
       "min_height": null,
       "min_width": null,
       "object_fit": null,
       "object_position": null,
       "order": null,
       "overflow": null,
       "overflow_x": null,
       "overflow_y": null,
       "padding": null,
       "right": null,
       "top": null,
       "visibility": null,
       "width": null
      }
     },
     "fc352e5e1d764465b393508acad0ccba": {
      "model_module": "@jupyter-widgets/controls",
      "model_module_version": "1.5.0",
      "model_name": "HBoxModel",
      "state": {
       "_dom_classes": [],
       "_model_module": "@jupyter-widgets/controls",
       "_model_module_version": "1.5.0",
       "_model_name": "HBoxModel",
       "_view_count": null,
       "_view_module": "@jupyter-widgets/controls",
       "_view_module_version": "1.5.0",
       "_view_name": "HBoxView",
       "box_style": "",
       "children": [
        "IPY_MODEL_c3e809490a044adf9afee57fe9fad869",
        "IPY_MODEL_269d83c48e2548fca135bed96a2c3d0e",
        "IPY_MODEL_85f35c159d5740428f0208460295ac81"
       ],
       "layout": "IPY_MODEL_c30f88156caf45afa5bacc86f708c798"
      }
     },
     "fd6262fe04414b5490552be71be847b5": {
      "model_module": "@jupyter-widgets/base",
      "model_module_version": "1.2.0",
      "model_name": "LayoutModel",
      "state": {
       "_model_module": "@jupyter-widgets/base",
       "_model_module_version": "1.2.0",
       "_model_name": "LayoutModel",
       "_view_count": null,
       "_view_module": "@jupyter-widgets/base",
       "_view_module_version": "1.2.0",
       "_view_name": "LayoutView",
       "align_content": null,
       "align_items": null,
       "align_self": null,
       "border": null,
       "bottom": null,
       "display": null,
       "flex": null,
       "flex_flow": null,
       "grid_area": null,
       "grid_auto_columns": null,
       "grid_auto_flow": null,
       "grid_auto_rows": null,
       "grid_column": null,
       "grid_gap": null,
       "grid_row": null,
       "grid_template_areas": null,
       "grid_template_columns": null,
       "grid_template_rows": null,
       "height": null,
       "justify_content": null,
       "justify_items": null,
       "left": null,
       "margin": null,
       "max_height": null,
       "max_width": null,
       "min_height": null,
       "min_width": null,
       "object_fit": null,
       "object_position": null,
       "order": null,
       "overflow": null,
       "overflow_x": null,
       "overflow_y": null,
       "padding": null,
       "right": null,
       "top": null,
       "visibility": null,
       "width": null
      }
     }
    },
    "version_major": 2,
    "version_minor": 0
   }
  }
 },
 "nbformat": 4,
 "nbformat_minor": 5
}
